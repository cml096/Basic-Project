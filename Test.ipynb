{
  "nbformat": 4,
  "nbformat_minor": 0,
  "metadata": {
    "colab": {
      "name": "Test.ipynb",
      "provenance": [],
      "authorship_tag": "ABX9TyN3sqStXW9TxvKiwJQ+WhJC",
      "include_colab_link": true
    },
    "kernelspec": {
      "name": "python3",
      "display_name": "Python 3"
    }
  },
  "cells": [
    {
      "cell_type": "markdown",
      "metadata": {
        "id": "view-in-github",
        "colab_type": "text"
      },
      "source": [
        "<a href=\"https://colab.research.google.com/github/cml096/Basic-Project/blob/master/Test.ipynb\" target=\"_parent\"><img src=\"https://colab.research.google.com/assets/colab-badge.svg\" alt=\"Open In Colab\"/></a>"
      ]
    },
    {
      "cell_type": "code",
      "metadata": {
        "id": "_k-vUC09eqGq"
      },
      "source": [
        "import pandas as pd\n",
        "df = pd.read_excel('OperTot - PowerView_ARCH1.xlsx')"
      ],
      "execution_count": 1,
      "outputs": []
    },
    {
      "cell_type": "code",
      "metadata": {
        "id": "HjOPgh8whtWh"
      },
      "source": [
        "list_drop = ['ID','crew#','unit#','tmcat08','tmcat09','tmcat10','tmcat11','tmcat12','tmcat13','tmcat14','tmcat15','tmcat16','tmcat17','tmcat18','tmcat19']\n",
        "df.drop(list_drop,axis=1,inplace=True)"
      ],
      "execution_count": 2,
      "outputs": []
    },
    {
      "cell_type": "code",
      "metadata": {
        "id": "eNOspMBMhv6B"
      },
      "source": [
        "df[\"shift#\"] = df[\"shift#\"].astype(str)\n",
        "df.totaltons = df.totaltons.astype(int)"
      ],
      "execution_count": 3,
      "outputs": []
    },
    {
      "cell_type": "code",
      "metadata": {
        "id": "CqSpJPvdhxe5"
      },
      "source": [
        "df_palas = df[df.unit == 'Pala']"
      ],
      "execution_count": 4,
      "outputs": []
    },
    {
      "cell_type": "code",
      "metadata": {
        "id": "rlH8lKODyCHZ",
        "outputId": "b29f21c4-8af9-418d-a5f9-5ead7e39aa80",
        "colab": {
          "base_uri": "https://localhost:8080/"
        }
      },
      "source": [
        "df_palas.columns"
      ],
      "execution_count": 5,
      "outputs": [
        {
          "output_type": "execute_result",
          "data": {
            "text/plain": [
              "Index(['shiftdate', 'shiftindex', 'shift#', 'start', 'crew', 'eqmtid',\n",
              "       'logintime', 'locid', 'operid', 'totaltime', 'pit', 'unit',\n",
              "       'totalloads', 'totaltons', 'loadtime', 'idletime', 'spottime',\n",
              "       'loadcnt', 'tmcat00', 'tmcat01', 'tmcat02', 'tmcat03', 'tmcat04',\n",
              "       'tmcat05', 'tmcat06', 'tmcat07'],\n",
              "      dtype='object')"
            ]
          },
          "metadata": {
            "tags": []
          },
          "execution_count": 5
        }
      ]
    },
    {
      "cell_type": "code",
      "metadata": {
        "id": "yTM08Chuy31k",
        "outputId": "eed41e88-a29c-42fb-cc77-68dc1fa2b943",
        "colab": {
          "base_uri": "https://localhost:8080/",
          "height": 224
        }
      },
      "source": [
        "df_palas.head()"
      ],
      "execution_count": 6,
      "outputs": [
        {
          "output_type": "execute_result",
          "data": {
            "text/html": [
              "<div>\n",
              "<style scoped>\n",
              "    .dataframe tbody tr th:only-of-type {\n",
              "        vertical-align: middle;\n",
              "    }\n",
              "\n",
              "    .dataframe tbody tr th {\n",
              "        vertical-align: top;\n",
              "    }\n",
              "\n",
              "    .dataframe thead th {\n",
              "        text-align: right;\n",
              "    }\n",
              "</style>\n",
              "<table border=\"1\" class=\"dataframe\">\n",
              "  <thead>\n",
              "    <tr style=\"text-align: right;\">\n",
              "      <th></th>\n",
              "      <th>shiftdate</th>\n",
              "      <th>shiftindex</th>\n",
              "      <th>shift#</th>\n",
              "      <th>start</th>\n",
              "      <th>crew</th>\n",
              "      <th>eqmtid</th>\n",
              "      <th>logintime</th>\n",
              "      <th>locid</th>\n",
              "      <th>operid</th>\n",
              "      <th>totaltime</th>\n",
              "      <th>pit</th>\n",
              "      <th>unit</th>\n",
              "      <th>totalloads</th>\n",
              "      <th>totaltons</th>\n",
              "      <th>loadtime</th>\n",
              "      <th>idletime</th>\n",
              "      <th>spottime</th>\n",
              "      <th>loadcnt</th>\n",
              "      <th>tmcat00</th>\n",
              "      <th>tmcat01</th>\n",
              "      <th>tmcat02</th>\n",
              "      <th>tmcat03</th>\n",
              "      <th>tmcat04</th>\n",
              "      <th>tmcat05</th>\n",
              "      <th>tmcat06</th>\n",
              "      <th>tmcat07</th>\n",
              "    </tr>\n",
              "  </thead>\n",
              "  <tbody>\n",
              "    <tr>\n",
              "      <th>44</th>\n",
              "      <td>2019-07-01</td>\n",
              "      <td>36157</td>\n",
              "      <td>2</td>\n",
              "      <td>28800</td>\n",
              "      <td>G2</td>\n",
              "      <td>307</td>\n",
              "      <td>0</td>\n",
              "      <td>TX210039</td>\n",
              "      <td>mmsunk</td>\n",
              "      <td>3088</td>\n",
              "      <td>MINA</td>\n",
              "      <td>Pala</td>\n",
              "      <td>3</td>\n",
              "      <td>690</td>\n",
              "      <td>0</td>\n",
              "      <td>0</td>\n",
              "      <td>0</td>\n",
              "      <td>3</td>\n",
              "      <td>3088</td>\n",
              "      <td>0</td>\n",
              "      <td>0</td>\n",
              "      <td>3088</td>\n",
              "      <td>0</td>\n",
              "      <td>0</td>\n",
              "      <td>0</td>\n",
              "      <td>0</td>\n",
              "    </tr>\n",
              "    <tr>\n",
              "      <th>45</th>\n",
              "      <td>2019-07-01</td>\n",
              "      <td>36157</td>\n",
              "      <td>2</td>\n",
              "      <td>28800</td>\n",
              "      <td>G2</td>\n",
              "      <td>307</td>\n",
              "      <td>3088</td>\n",
              "      <td>TX210039</td>\n",
              "      <td>07641</td>\n",
              "      <td>39893</td>\n",
              "      <td>MINA</td>\n",
              "      <td>Pala</td>\n",
              "      <td>100</td>\n",
              "      <td>23335</td>\n",
              "      <td>22347</td>\n",
              "      <td>5090</td>\n",
              "      <td>7656</td>\n",
              "      <td>100</td>\n",
              "      <td>39893</td>\n",
              "      <td>35320</td>\n",
              "      <td>0</td>\n",
              "      <td>2801</td>\n",
              "      <td>0</td>\n",
              "      <td>0</td>\n",
              "      <td>1772</td>\n",
              "      <td>0</td>\n",
              "    </tr>\n",
              "    <tr>\n",
              "      <th>46</th>\n",
              "      <td>2019-07-01</td>\n",
              "      <td>36157</td>\n",
              "      <td>2</td>\n",
              "      <td>28800</td>\n",
              "      <td>G2</td>\n",
              "      <td>307</td>\n",
              "      <td>42981</td>\n",
              "      <td>TX210039</td>\n",
              "      <td>mmsunk</td>\n",
              "      <td>219</td>\n",
              "      <td>MINA</td>\n",
              "      <td>Pala</td>\n",
              "      <td>0</td>\n",
              "      <td>0</td>\n",
              "      <td>0</td>\n",
              "      <td>0</td>\n",
              "      <td>0</td>\n",
              "      <td>0</td>\n",
              "      <td>219</td>\n",
              "      <td>0</td>\n",
              "      <td>0</td>\n",
              "      <td>219</td>\n",
              "      <td>0</td>\n",
              "      <td>0</td>\n",
              "      <td>0</td>\n",
              "      <td>0</td>\n",
              "    </tr>\n",
              "    <tr>\n",
              "      <th>47</th>\n",
              "      <td>2019-07-01</td>\n",
              "      <td>36157</td>\n",
              "      <td>2</td>\n",
              "      <td>28800</td>\n",
              "      <td>G2</td>\n",
              "      <td>BUZON</td>\n",
              "      <td>0</td>\n",
              "      <td></td>\n",
              "      <td>mmsunk</td>\n",
              "      <td>43200</td>\n",
              "      <td>MINA</td>\n",
              "      <td>Pala</td>\n",
              "      <td>0</td>\n",
              "      <td>0</td>\n",
              "      <td>0</td>\n",
              "      <td>0</td>\n",
              "      <td>0</td>\n",
              "      <td>0</td>\n",
              "      <td>43200</td>\n",
              "      <td>0</td>\n",
              "      <td>0</td>\n",
              "      <td>0</td>\n",
              "      <td>43200</td>\n",
              "      <td>0</td>\n",
              "      <td>0</td>\n",
              "      <td>0</td>\n",
              "    </tr>\n",
              "    <tr>\n",
              "      <th>48</th>\n",
              "      <td>2019-07-01</td>\n",
              "      <td>36157</td>\n",
              "      <td>2</td>\n",
              "      <td>28800</td>\n",
              "      <td>G2</td>\n",
              "      <td>COSE2</td>\n",
              "      <td>0</td>\n",
              "      <td></td>\n",
              "      <td>mmsunk</td>\n",
              "      <td>43200</td>\n",
              "      <td></td>\n",
              "      <td>Pala</td>\n",
              "      <td>0</td>\n",
              "      <td>0</td>\n",
              "      <td>0</td>\n",
              "      <td>0</td>\n",
              "      <td>0</td>\n",
              "      <td>0</td>\n",
              "      <td>43200</td>\n",
              "      <td>0</td>\n",
              "      <td>0</td>\n",
              "      <td>0</td>\n",
              "      <td>43200</td>\n",
              "      <td>0</td>\n",
              "      <td>0</td>\n",
              "      <td>0</td>\n",
              "    </tr>\n",
              "  </tbody>\n",
              "</table>\n",
              "</div>"
            ],
            "text/plain": [
              "    shiftdate  shiftindex shift#  start  ... tmcat04 tmcat05  tmcat06 tmcat07\n",
              "44 2019-07-01       36157      2  28800  ...       0       0        0       0\n",
              "45 2019-07-01       36157      2  28800  ...       0       0     1772       0\n",
              "46 2019-07-01       36157      2  28800  ...       0       0        0       0\n",
              "47 2019-07-01       36157      2  28800  ...   43200       0        0       0\n",
              "48 2019-07-01       36157      2  28800  ...   43200       0        0       0\n",
              "\n",
              "[5 rows x 26 columns]"
            ]
          },
          "metadata": {
            "tags": []
          },
          "execution_count": 6
        }
      ]
    },
    {
      "cell_type": "code",
      "metadata": {
        "id": "lCkkZcOWmT5h"
      },
      "source": [
        "palas = pd.DataFrame(df_palas.groupby(['shiftdate','shiftindex','shift#','eqmtid']).sum().reset_index().sort_values('shiftdate'))"
      ],
      "execution_count": 7,
      "outputs": []
    },
    {
      "cell_type": "code",
      "metadata": {
        "id": "5yArPCOoq8XF",
        "outputId": "3244550c-7b31-411b-80f1-6a55fefb15c1",
        "colab": {
          "base_uri": "https://localhost:8080/"
        }
      },
      "source": [
        "palas.columns"
      ],
      "execution_count": 8,
      "outputs": [
        {
          "output_type": "execute_result",
          "data": {
            "text/plain": [
              "Index(['shiftdate', 'shiftindex', 'shift#', 'eqmtid', 'start', 'logintime',\n",
              "       'totaltime', 'totalloads', 'totaltons', 'loadtime', 'idletime',\n",
              "       'spottime', 'loadcnt', 'tmcat00', 'tmcat01', 'tmcat02', 'tmcat03',\n",
              "       'tmcat04', 'tmcat05', 'tmcat06', 'tmcat07'],\n",
              "      dtype='object')"
            ]
          },
          "metadata": {
            "tags": []
          },
          "execution_count": 8
        }
      ]
    },
    {
      "cell_type": "code",
      "metadata": {
        "id": "4uUlYAdesMpH"
      },
      "source": [
        "list_drop = ['start','logintime','totalloads','loadtime','idletime','spottime','tmcat00']\n",
        "palas.drop(list_drop,axis=1,inplace=True)"
      ],
      "execution_count": 9,
      "outputs": []
    },
    {
      "cell_type": "code",
      "metadata": {
        "id": "T5z6Ovwv28z8",
        "outputId": "cb650e23-cf1b-46b4-cea9-807eb484d4a7",
        "colab": {
          "base_uri": "https://localhost:8080/",
          "height": 379
        }
      },
      "source": [
        "palas.head(10)"
      ],
      "execution_count": 10,
      "outputs": [
        {
          "output_type": "execute_result",
          "data": {
            "text/html": [
              "<div>\n",
              "<style scoped>\n",
              "    .dataframe tbody tr th:only-of-type {\n",
              "        vertical-align: middle;\n",
              "    }\n",
              "\n",
              "    .dataframe tbody tr th {\n",
              "        vertical-align: top;\n",
              "    }\n",
              "\n",
              "    .dataframe thead th {\n",
              "        text-align: right;\n",
              "    }\n",
              "</style>\n",
              "<table border=\"1\" class=\"dataframe\">\n",
              "  <thead>\n",
              "    <tr style=\"text-align: right;\">\n",
              "      <th></th>\n",
              "      <th>shiftdate</th>\n",
              "      <th>shiftindex</th>\n",
              "      <th>shift#</th>\n",
              "      <th>eqmtid</th>\n",
              "      <th>totaltime</th>\n",
              "      <th>totaltons</th>\n",
              "      <th>loadcnt</th>\n",
              "      <th>tmcat01</th>\n",
              "      <th>tmcat02</th>\n",
              "      <th>tmcat03</th>\n",
              "      <th>tmcat04</th>\n",
              "      <th>tmcat05</th>\n",
              "      <th>tmcat06</th>\n",
              "      <th>tmcat07</th>\n",
              "    </tr>\n",
              "  </thead>\n",
              "  <tbody>\n",
              "    <tr>\n",
              "      <th>0</th>\n",
              "      <td>2019-07-01</td>\n",
              "      <td>36156</td>\n",
              "      <td>1</td>\n",
              "      <td>025</td>\n",
              "      <td>43200</td>\n",
              "      <td>0</td>\n",
              "      <td>0</td>\n",
              "      <td>0</td>\n",
              "      <td>0</td>\n",
              "      <td>0</td>\n",
              "      <td>0</td>\n",
              "      <td>3600</td>\n",
              "      <td>39600</td>\n",
              "      <td>0</td>\n",
              "    </tr>\n",
              "    <tr>\n",
              "      <th>20</th>\n",
              "      <td>2019-07-01</td>\n",
              "      <td>36157</td>\n",
              "      <td>2</td>\n",
              "      <td>029</td>\n",
              "      <td>43200</td>\n",
              "      <td>0</td>\n",
              "      <td>0</td>\n",
              "      <td>34200</td>\n",
              "      <td>0</td>\n",
              "      <td>1800</td>\n",
              "      <td>0</td>\n",
              "      <td>0</td>\n",
              "      <td>7200</td>\n",
              "      <td>0</td>\n",
              "    </tr>\n",
              "    <tr>\n",
              "      <th>21</th>\n",
              "      <td>2019-07-01</td>\n",
              "      <td>36157</td>\n",
              "      <td>2</td>\n",
              "      <td>030</td>\n",
              "      <td>43200</td>\n",
              "      <td>0</td>\n",
              "      <td>0</td>\n",
              "      <td>27000</td>\n",
              "      <td>0</td>\n",
              "      <td>9000</td>\n",
              "      <td>0</td>\n",
              "      <td>0</td>\n",
              "      <td>7200</td>\n",
              "      <td>0</td>\n",
              "    </tr>\n",
              "    <tr>\n",
              "      <th>22</th>\n",
              "      <td>2019-07-01</td>\n",
              "      <td>36157</td>\n",
              "      <td>2</td>\n",
              "      <td>210</td>\n",
              "      <td>43200</td>\n",
              "      <td>0</td>\n",
              "      <td>0</td>\n",
              "      <td>0</td>\n",
              "      <td>0</td>\n",
              "      <td>0</td>\n",
              "      <td>0</td>\n",
              "      <td>43200</td>\n",
              "      <td>0</td>\n",
              "      <td>0</td>\n",
              "    </tr>\n",
              "    <tr>\n",
              "      <th>23</th>\n",
              "      <td>2019-07-01</td>\n",
              "      <td>36157</td>\n",
              "      <td>2</td>\n",
              "      <td>211</td>\n",
              "      <td>43200</td>\n",
              "      <td>35782</td>\n",
              "      <td>157</td>\n",
              "      <td>35168</td>\n",
              "      <td>0</td>\n",
              "      <td>814</td>\n",
              "      <td>3086</td>\n",
              "      <td>0</td>\n",
              "      <td>4132</td>\n",
              "      <td>0</td>\n",
              "    </tr>\n",
              "    <tr>\n",
              "      <th>24</th>\n",
              "      <td>2019-07-01</td>\n",
              "      <td>36157</td>\n",
              "      <td>2</td>\n",
              "      <td>212</td>\n",
              "      <td>43200</td>\n",
              "      <td>0</td>\n",
              "      <td>0</td>\n",
              "      <td>0</td>\n",
              "      <td>0</td>\n",
              "      <td>0</td>\n",
              "      <td>0</td>\n",
              "      <td>43200</td>\n",
              "      <td>0</td>\n",
              "      <td>0</td>\n",
              "    </tr>\n",
              "    <tr>\n",
              "      <th>25</th>\n",
              "      <td>2019-07-01</td>\n",
              "      <td>36157</td>\n",
              "      <td>2</td>\n",
              "      <td>213</td>\n",
              "      <td>43200</td>\n",
              "      <td>2833</td>\n",
              "      <td>12</td>\n",
              "      <td>5593</td>\n",
              "      <td>0</td>\n",
              "      <td>367</td>\n",
              "      <td>3466</td>\n",
              "      <td>33774</td>\n",
              "      <td>0</td>\n",
              "      <td>0</td>\n",
              "    </tr>\n",
              "    <tr>\n",
              "      <th>27</th>\n",
              "      <td>2019-07-01</td>\n",
              "      <td>36157</td>\n",
              "      <td>2</td>\n",
              "      <td>305</td>\n",
              "      <td>43200</td>\n",
              "      <td>12764</td>\n",
              "      <td>55</td>\n",
              "      <td>30875</td>\n",
              "      <td>0</td>\n",
              "      <td>3972</td>\n",
              "      <td>4192</td>\n",
              "      <td>0</td>\n",
              "      <td>4161</td>\n",
              "      <td>0</td>\n",
              "    </tr>\n",
              "    <tr>\n",
              "      <th>28</th>\n",
              "      <td>2019-07-01</td>\n",
              "      <td>36157</td>\n",
              "      <td>2</td>\n",
              "      <td>306</td>\n",
              "      <td>43200</td>\n",
              "      <td>12139</td>\n",
              "      <td>54</td>\n",
              "      <td>24996</td>\n",
              "      <td>0</td>\n",
              "      <td>10339</td>\n",
              "      <td>0</td>\n",
              "      <td>6049</td>\n",
              "      <td>1816</td>\n",
              "      <td>0</td>\n",
              "    </tr>\n",
              "    <tr>\n",
              "      <th>29</th>\n",
              "      <td>2019-07-01</td>\n",
              "      <td>36157</td>\n",
              "      <td>2</td>\n",
              "      <td>307</td>\n",
              "      <td>43200</td>\n",
              "      <td>24025</td>\n",
              "      <td>103</td>\n",
              "      <td>35320</td>\n",
              "      <td>0</td>\n",
              "      <td>6108</td>\n",
              "      <td>0</td>\n",
              "      <td>0</td>\n",
              "      <td>1772</td>\n",
              "      <td>0</td>\n",
              "    </tr>\n",
              "  </tbody>\n",
              "</table>\n",
              "</div>"
            ],
            "text/plain": [
              "    shiftdate  shiftindex shift# eqmtid  ...  tmcat04  tmcat05  tmcat06  tmcat07\n",
              "0  2019-07-01       36156      1    025  ...        0     3600    39600        0\n",
              "20 2019-07-01       36157      2    029  ...        0        0     7200        0\n",
              "21 2019-07-01       36157      2    030  ...        0        0     7200        0\n",
              "22 2019-07-01       36157      2    210  ...        0    43200        0        0\n",
              "23 2019-07-01       36157      2    211  ...     3086        0     4132        0\n",
              "24 2019-07-01       36157      2    212  ...        0    43200        0        0\n",
              "25 2019-07-01       36157      2    213  ...     3466    33774        0        0\n",
              "27 2019-07-01       36157      2    305  ...     4192        0     4161        0\n",
              "28 2019-07-01       36157      2    306  ...        0     6049     1816        0\n",
              "29 2019-07-01       36157      2    307  ...        0        0     1772        0\n",
              "\n",
              "[10 rows x 14 columns]"
            ]
          },
          "metadata": {
            "tags": []
          },
          "execution_count": 10
        }
      ]
    },
    {
      "cell_type": "code",
      "metadata": {
        "id": "5wpm9B0HtOHB",
        "outputId": "8ba8cf86-6b77-4446-bafc-ab996ba7e3e5",
        "colab": {
          "base_uri": "https://localhost:8080/"
        }
      },
      "source": [
        "palas.info()"
      ],
      "execution_count": 11,
      "outputs": [
        {
          "output_type": "stream",
          "text": [
            "<class 'pandas.core.frame.DataFrame'>\n",
            "Int64Index: 13650 entries, 0 to 13649\n",
            "Data columns (total 14 columns):\n",
            " #   Column      Non-Null Count  Dtype         \n",
            "---  ------      --------------  -----         \n",
            " 0   shiftdate   13650 non-null  datetime64[ns]\n",
            " 1   shiftindex  13650 non-null  int64         \n",
            " 2   shift#      13650 non-null  object        \n",
            " 3   eqmtid      13650 non-null  object        \n",
            " 4   totaltime   13650 non-null  int64         \n",
            " 5   totaltons   13650 non-null  int64         \n",
            " 6   loadcnt     13650 non-null  int64         \n",
            " 7   tmcat01     13650 non-null  int64         \n",
            " 8   tmcat02     13650 non-null  int64         \n",
            " 9   tmcat03     13650 non-null  int64         \n",
            " 10  tmcat04     13650 non-null  int64         \n",
            " 11  tmcat05     13650 non-null  int64         \n",
            " 12  tmcat06     13650 non-null  int64         \n",
            " 13  tmcat07     13650 non-null  int64         \n",
            "dtypes: datetime64[ns](1), int64(11), object(2)\n",
            "memory usage: 1.6+ MB\n"
          ],
          "name": "stdout"
        }
      ]
    },
    {
      "cell_type": "code",
      "metadata": {
        "id": "nR4GHxxjxUGu"
      },
      "source": [
        "palas = palas[palas.totaltons != 0]"
      ],
      "execution_count": 12,
      "outputs": []
    },
    {
      "cell_type": "markdown",
      "metadata": {
        "id": "EAiR50IwyHqH"
      },
      "source": [
        "#Funciones"
      ]
    },
    {
      "cell_type": "code",
      "metadata": {
        "id": "8r9DOH0q-39m"
      },
      "source": [
        "def plot_matriz(y_test,y_pred):\n",
        "  cf_matrix = confusion_matrix(y_test,y_pred)\n",
        "\n",
        "  group_names = ['True Neg','False Pos','False Neg','True Pos']\n",
        "\n",
        "  group_counts = [\"{0:0.0f}\".format(value) for value in\n",
        "                  cf_matrix.flatten()]\n",
        "\n",
        "  group_percentages = [\"{0:.2%}\".format(value) for value in\n",
        "                      cf_matrix.flatten()/np.sum(cf_matrix)]\n",
        "\n",
        "  labels = [f'{v1}\\n{v2}\\n{v3}' for v1, v2, v3 in\n",
        "            zip(group_names,group_counts,group_percentages)]\n",
        "\n",
        "  labels = np.asarray(labels).reshape(2,2)\n",
        "\n",
        "  class_names = [0,1]\n",
        "  # settings plot\n",
        "  fig, ax = plt.subplots()\n",
        "  tick_marks = np.arange(len(class_names))\n",
        "  plt.xticks(tick_marks, class_names)\n",
        "  plt.yticks(tick_marks, class_names)\n",
        "  ax.xaxis.set_label_position(\"top\")\n",
        "  plt.tight_layout()\n",
        "  plt.title('Matriz de Confusión', y=1.1)\n",
        "  # plot\n",
        "  sns.heatmap(cf_matrix, annot=labels, fmt='', cmap='binary')\n",
        "  print(\"Accuracy:\",metrics.accuracy_score(y_test, y_pred))\n",
        "  print(\"Precision:\",metrics.precision_score(y_test, y_pred))\n",
        "  print(\"Recall:\",metrics.recall_score(y_test, y_pred))"
      ],
      "execution_count": 13,
      "outputs": []
    },
    {
      "cell_type": "code",
      "metadata": {
        "id": "vbLZW2N-DGA3"
      },
      "source": [
        "def tree_to_png(dtree,df,name):\n",
        "  dot_data = StringIO()\n",
        "  export_graphviz(dtree,\n",
        "                  feature_names=df.drop('rend_ef_bin',axis=1).columns,\n",
        "                  class_names=['Malo','Bueno'],\n",
        "                  filled = True,\n",
        "                  out_file=dot_data)\n",
        "  graph = pydotplus.graph_from_dot_data(dot_data.getvalue())\n",
        "  graph.write_png(name)\n",
        "  Image(graph.create_png())"
      ],
      "execution_count": 14,
      "outputs": []
    },
    {
      "cell_type": "code",
      "metadata": {
        "id": "_KzSk64rXCJl"
      },
      "source": [
        "def podar(inner_tree, index, threshold):\n",
        "    if inner_tree.value[index].min() < threshold:\n",
        "        # turn node into a leaf by \"unlinking\" its children\n",
        "        inner_tree.children_left[index] = TREE_LEAF\n",
        "        inner_tree.children_right[index] = TREE_LEAF\n",
        "    # if there are shildren, visit them as well\n",
        "    if inner_tree.children_left[index] != TREE_LEAF:\n",
        "        prune_index(inner_tree, inner_tree.children_left[index], threshold)\n",
        "        prune_index(inner_tree, inner_tree.children_right[index], threshold)"
      ],
      "execution_count": 15,
      "outputs": []
    },
    {
      "cell_type": "markdown",
      "metadata": {
        "id": "nBtXyUDsweN7"
      },
      "source": [
        "#Regresión lineal"
      ]
    },
    {
      "cell_type": "code",
      "metadata": {
        "id": "FcT_kHA32Slh"
      },
      "source": [
        "from sklearn.model_selection import train_test_split"
      ],
      "execution_count": 16,
      "outputs": []
    },
    {
      "cell_type": "code",
      "metadata": {
        "id": "3YnLn6bLu5IH"
      },
      "source": [
        "target = \"totaltons\"\n",
        "list_drop = [target,'shiftdate','shift#','eqmtid','loadcnt']\n",
        "X = palas.drop(list_drop,axis=1)\n",
        "y = palas[target]"
      ],
      "execution_count": 17,
      "outputs": []
    },
    {
      "cell_type": "code",
      "metadata": {
        "id": "GTiqpmCsw0jC"
      },
      "source": [
        "X_train, X_test, y_train, y_test = train_test_split(X, y, test_size=0.4, random_state=42)"
      ],
      "execution_count": 18,
      "outputs": []
    },
    {
      "cell_type": "code",
      "metadata": {
        "id": "wxmKs-y7115d"
      },
      "source": [
        "from sklearn import linear_model"
      ],
      "execution_count": 19,
      "outputs": []
    },
    {
      "cell_type": "code",
      "metadata": {
        "id": "-8eLeLL3w9_t",
        "outputId": "5310d244-f394-4102-ff9f-bf71266685cd",
        "colab": {
          "base_uri": "https://localhost:8080/"
        }
      },
      "source": [
        "modelo = linear_model.LinearRegression()\n",
        "modelo.fit(X_train,y_train)"
      ],
      "execution_count": 20,
      "outputs": [
        {
          "output_type": "execute_result",
          "data": {
            "text/plain": [
              "LinearRegression(copy_X=True, fit_intercept=True, n_jobs=None, normalize=False)"
            ]
          },
          "metadata": {
            "tags": []
          },
          "execution_count": 20
        }
      ]
    },
    {
      "cell_type": "code",
      "metadata": {
        "id": "UA1dnYkXxAHo",
        "outputId": "9df7d2df-81ff-490a-de85-99af7c5b9fd2",
        "colab": {
          "base_uri": "https://localhost:8080/",
          "height": 328
        }
      },
      "source": [
        "y_pred = modelo.predict(X_test)\n",
        "pd.DataFrame(modelo.coef_,X.columns,columns=['Coefficient'])"
      ],
      "execution_count": 21,
      "outputs": [
        {
          "output_type": "execute_result",
          "data": {
            "text/html": [
              "<div>\n",
              "<style scoped>\n",
              "    .dataframe tbody tr th:only-of-type {\n",
              "        vertical-align: middle;\n",
              "    }\n",
              "\n",
              "    .dataframe tbody tr th {\n",
              "        vertical-align: top;\n",
              "    }\n",
              "\n",
              "    .dataframe thead th {\n",
              "        text-align: right;\n",
              "    }\n",
              "</style>\n",
              "<table border=\"1\" class=\"dataframe\">\n",
              "  <thead>\n",
              "    <tr style=\"text-align: right;\">\n",
              "      <th></th>\n",
              "      <th>Coefficient</th>\n",
              "    </tr>\n",
              "  </thead>\n",
              "  <tbody>\n",
              "    <tr>\n",
              "      <th>shiftindex</th>\n",
              "      <td>-0.769240</td>\n",
              "    </tr>\n",
              "    <tr>\n",
              "      <th>totaltime</th>\n",
              "      <td>0.300611</td>\n",
              "    </tr>\n",
              "    <tr>\n",
              "      <th>tmcat01</th>\n",
              "      <td>0.455764</td>\n",
              "    </tr>\n",
              "    <tr>\n",
              "      <th>tmcat02</th>\n",
              "      <td>0.038309</td>\n",
              "    </tr>\n",
              "    <tr>\n",
              "      <th>tmcat03</th>\n",
              "      <td>0.223471</td>\n",
              "    </tr>\n",
              "    <tr>\n",
              "      <th>tmcat04</th>\n",
              "      <td>-0.281254</td>\n",
              "    </tr>\n",
              "    <tr>\n",
              "      <th>tmcat05</th>\n",
              "      <td>-0.059851</td>\n",
              "    </tr>\n",
              "    <tr>\n",
              "      <th>tmcat06</th>\n",
              "      <td>0.045332</td>\n",
              "    </tr>\n",
              "    <tr>\n",
              "      <th>tmcat07</th>\n",
              "      <td>-0.121158</td>\n",
              "    </tr>\n",
              "  </tbody>\n",
              "</table>\n",
              "</div>"
            ],
            "text/plain": [
              "            Coefficient\n",
              "shiftindex    -0.769240\n",
              "totaltime      0.300611\n",
              "tmcat01        0.455764\n",
              "tmcat02        0.038309\n",
              "tmcat03        0.223471\n",
              "tmcat04       -0.281254\n",
              "tmcat05       -0.059851\n",
              "tmcat06        0.045332\n",
              "tmcat07       -0.121158"
            ]
          },
          "metadata": {
            "tags": []
          },
          "execution_count": 21
        }
      ]
    },
    {
      "cell_type": "code",
      "metadata": {
        "id": "4Nks3HtxxByc",
        "outputId": "6a74ab72-3f96-43ec-d5c6-81b9d135d5b7",
        "colab": {
          "base_uri": "https://localhost:8080/",
          "height": 410
        }
      },
      "source": [
        "import matplotlib.pyplot as plt\n",
        "import seaborn as sns; sns.set()\n",
        "plt.figure(figsize=(10,5))\n",
        "sns.scatterplot(y_test,y_pred,color='blue',alpha=0.5)"
      ],
      "execution_count": 22,
      "outputs": [
        {
          "output_type": "stream",
          "text": [
            "/usr/local/lib/python3.6/dist-packages/seaborn/_decorators.py:43: FutureWarning: Pass the following variables as keyword args: x, y. From version 0.12, the only valid positional argument will be `data`, and passing other arguments without an explicit keyword will result in an error or misinterpretation.\n",
            "  FutureWarning\n"
          ],
          "name": "stderr"
        },
        {
          "output_type": "execute_result",
          "data": {
            "text/plain": [
              "<matplotlib.axes._subplots.AxesSubplot at 0x7ff02ce1cd68>"
            ]
          },
          "metadata": {
            "tags": []
          },
          "execution_count": 22
        },
        {
          "output_type": "display_data",
          "data": {
            "image/png": "[encoded data removed]",
            "text/plain": [
              "<Figure size 720x360 with 1 Axes>"
            ]
          },
          "metadata": {
            "tags": []
          }
        }
      ]
    },
    {
      "cell_type": "code",
      "metadata": {
        "id": "zkU5XHM9xHTc",
        "outputId": "e06dfc8f-0ea3-448f-f85f-b79b8d26f0c6",
        "colab": {
          "base_uri": "https://localhost:8080/",
          "height": 367
        }
      },
      "source": [
        "sns.distplot((y_test-y_pred),bins=50)"
      ],
      "execution_count": 23,
      "outputs": [
        {
          "output_type": "stream",
          "text": [
            "/usr/local/lib/python3.6/dist-packages/seaborn/distributions.py:2551: FutureWarning: `distplot` is a deprecated function and will be removed in a future version. Please adapt your code to use either `displot` (a figure-level function with similar flexibility) or `histplot` (an axes-level function for histograms).\n",
            "  warnings.warn(msg, FutureWarning)\n"
          ],
          "name": "stderr"
        },
        {
          "output_type": "execute_result",
          "data": {
            "text/plain": [
              "<matplotlib.axes._subplots.AxesSubplot at 0x7ff02c8b1128>"
            ]
          },
          "metadata": {
            "tags": []
          },
          "execution_count": 23
        },
        {
          "output_type": "display_data",
          "data": {
            "image/png": "[encoded data removed]",
            "text/plain": [
              "<Figure size 432x288 with 1 Axes>"
            ]
          },
          "metadata": {
            "tags": []
          }
        }
      ]
    },
    {
      "cell_type": "code",
      "metadata": {
        "id": "UL_E8ALOxK1A",
        "outputId": "f92fdbc8-b0c6-4e20-e67f-d3d9c0bfbde9",
        "colab": {
          "base_uri": "https://localhost:8080/",
          "height": 285
        }
      },
      "source": [
        "plt.scatter(y_pred,y_test-y_pred,c='blue',alpha=0.5)"
      ],
      "execution_count": 24,
      "outputs": [
        {
          "output_type": "execute_result",
          "data": {
            "text/plain": [
              "<matplotlib.collections.PathCollection at 0x7ff02af6c748>"
            ]
          },
          "metadata": {
            "tags": []
          },
          "execution_count": 24
        },
        {
          "output_type": "display_data",
          "data": {
            "image/png": "[encoded data removed]",
            "text/plain": [
              "<Figure size 432x288 with 1 Axes>"
            ]
          },
          "metadata": {
            "tags": []
          }
        }
      ]
    },
    {
      "cell_type": "code",
      "metadata": {
        "id": "tup8ds_XxMi9",
        "outputId": "4e8b7c34-2fd5-4b5f-92d8-d75793e31b1b",
        "colab": {
          "base_uri": "https://localhost:8080/"
        }
      },
      "source": [
        "from sklearn import metrics\n",
        "metrics.r2_score(y_test,y_pred)"
      ],
      "execution_count": 25,
      "outputs": [
        {
          "output_type": "execute_result",
          "data": {
            "text/plain": [
              "0.5087676648073538"
            ]
          },
          "metadata": {
            "tags": []
          },
          "execution_count": 25
        }
      ]
    },
    {
      "cell_type": "code",
      "metadata": {
        "id": "WuSg5B4AxOGs",
        "outputId": "6aee2963-8a76-4c9e-e902-b850fc01beac",
        "colab": {
          "base_uri": "https://localhost:8080/"
        }
      },
      "source": [
        "print(f'Error Cuadrático Medio: {metrics.mean_squared_error(y_test,y_pred)}')"
      ],
      "execution_count": 26,
      "outputs": [
        {
          "output_type": "stream",
          "text": [
            "Error Cuadrático Medio: 50913896.16006359\n"
          ],
          "name": "stdout"
        }
      ]
    },
    {
      "cell_type": "markdown",
      "metadata": {
        "id": "JIhoynFqxeVK"
      },
      "source": [
        "#Regresión logística"
      ]
    },
    {
      "cell_type": "markdown",
      "metadata": {
        "id": "HpIMdg3X2ZIe"
      },
      "source": [
        "Calculo Rendimiento"
      ]
    },
    {
      "cell_type": "code",
      "metadata": {
        "id": "Tpi8lfCjzqM3"
      },
      "source": [
        "def rendimiento_efectivo(ton,time):\n",
        "  if time == 0:\n",
        "    return 0\n",
        "  else:\n",
        "    return ton/time"
      ],
      "execution_count": 27,
      "outputs": []
    },
    {
      "cell_type": "code",
      "metadata": {
        "id": "MUaHxueNztHD"
      },
      "source": [
        "palas['rendimiento_efectivo'] = palas.apply(lambda row : rendimiento_efectivo(row.totaltons,row.tmcat01),axis=1)"
      ],
      "execution_count": 28,
      "outputs": []
    },
    {
      "cell_type": "code",
      "metadata": {
        "id": "eGtCl7_i0-Er",
        "outputId": "7d01dbb5-af0b-4db3-c134-af945bd96a7b",
        "colab": {
          "base_uri": "https://localhost:8080/"
        }
      },
      "source": [
        "palas['rendimiento_efectivo'].describe()"
      ],
      "execution_count": 29,
      "outputs": [
        {
          "output_type": "execute_result",
          "data": {
            "text/plain": [
              "count    3819.000000\n",
              "mean        0.615921\n",
              "std         0.327523\n",
              "min         0.000000\n",
              "25%         0.443304\n",
              "50%         0.586988\n",
              "75%         0.806069\n",
              "max        12.000000\n",
              "Name: rendimiento_efectivo, dtype: float64"
            ]
          },
          "metadata": {
            "tags": []
          },
          "execution_count": 29
        }
      ]
    },
    {
      "cell_type": "markdown",
      "metadata": {
        "id": "aTPEozDy2exo"
      },
      "source": [
        "Diferenciamos Bueno o Malo segun el promedio de rendimiento"
      ]
    },
    {
      "cell_type": "code",
      "metadata": {
        "id": "AIlFIVsX0GXC"
      },
      "source": [
        "def check(valor):\n",
        "  if valor >= 0.615921:\n",
        "    return 1\n",
        "  else:\n",
        "    return 0"
      ],
      "execution_count": 30,
      "outputs": []
    },
    {
      "cell_type": "code",
      "metadata": {
        "id": "sugPPt0o0Pfw"
      },
      "source": [
        "palas['rend_ef_bin'] = palas.apply(lambda row : check(row.rendimiento_efectivo),axis=1)"
      ],
      "execution_count": 31,
      "outputs": []
    },
    {
      "cell_type": "code",
      "metadata": {
        "id": "v1f5Do0A0yTX",
        "outputId": "90a076c9-1336-40a5-f84f-bfe07322289c",
        "colab": {
          "base_uri": "https://localhost:8080/",
          "height": 162
        }
      },
      "source": [
        "pd.DataFrame(palas.groupby(['rend_ef_bin']).count())"
      ],
      "execution_count": 32,
      "outputs": [
        {
          "output_type": "execute_result",
          "data": {
            "text/html": [
              "<div>\n",
              "<style scoped>\n",
              "    .dataframe tbody tr th:only-of-type {\n",
              "        vertical-align: middle;\n",
              "    }\n",
              "\n",
              "    .dataframe tbody tr th {\n",
              "        vertical-align: top;\n",
              "    }\n",
              "\n",
              "    .dataframe thead th {\n",
              "        text-align: right;\n",
              "    }\n",
              "</style>\n",
              "<table border=\"1\" class=\"dataframe\">\n",
              "  <thead>\n",
              "    <tr style=\"text-align: right;\">\n",
              "      <th></th>\n",
              "      <th>shiftdate</th>\n",
              "      <th>shiftindex</th>\n",
              "      <th>shift#</th>\n",
              "      <th>eqmtid</th>\n",
              "      <th>totaltime</th>\n",
              "      <th>totaltons</th>\n",
              "      <th>loadcnt</th>\n",
              "      <th>tmcat01</th>\n",
              "      <th>tmcat02</th>\n",
              "      <th>tmcat03</th>\n",
              "      <th>tmcat04</th>\n",
              "      <th>tmcat05</th>\n",
              "      <th>tmcat06</th>\n",
              "      <th>tmcat07</th>\n",
              "      <th>rendimiento_efectivo</th>\n",
              "    </tr>\n",
              "    <tr>\n",
              "      <th>rend_ef_bin</th>\n",
              "      <th></th>\n",
              "      <th></th>\n",
              "      <th></th>\n",
              "      <th></th>\n",
              "      <th></th>\n",
              "      <th></th>\n",
              "      <th></th>\n",
              "      <th></th>\n",
              "      <th></th>\n",
              "      <th></th>\n",
              "      <th></th>\n",
              "      <th></th>\n",
              "      <th></th>\n",
              "      <th></th>\n",
              "      <th></th>\n",
              "    </tr>\n",
              "  </thead>\n",
              "  <tbody>\n",
              "    <tr>\n",
              "      <th>0</th>\n",
              "      <td>2067</td>\n",
              "      <td>2067</td>\n",
              "      <td>2067</td>\n",
              "      <td>2067</td>\n",
              "      <td>2067</td>\n",
              "      <td>2067</td>\n",
              "      <td>2067</td>\n",
              "      <td>2067</td>\n",
              "      <td>2067</td>\n",
              "      <td>2067</td>\n",
              "      <td>2067</td>\n",
              "      <td>2067</td>\n",
              "      <td>2067</td>\n",
              "      <td>2067</td>\n",
              "      <td>2067</td>\n",
              "    </tr>\n",
              "    <tr>\n",
              "      <th>1</th>\n",
              "      <td>1752</td>\n",
              "      <td>1752</td>\n",
              "      <td>1752</td>\n",
              "      <td>1752</td>\n",
              "      <td>1752</td>\n",
              "      <td>1752</td>\n",
              "      <td>1752</td>\n",
              "      <td>1752</td>\n",
              "      <td>1752</td>\n",
              "      <td>1752</td>\n",
              "      <td>1752</td>\n",
              "      <td>1752</td>\n",
              "      <td>1752</td>\n",
              "      <td>1752</td>\n",
              "      <td>1752</td>\n",
              "    </tr>\n",
              "  </tbody>\n",
              "</table>\n",
              "</div>"
            ],
            "text/plain": [
              "             shiftdate  shiftindex  ...  tmcat07  rendimiento_efectivo\n",
              "rend_ef_bin                         ...                               \n",
              "0                 2067        2067  ...     2067                  2067\n",
              "1                 1752        1752  ...     1752                  1752\n",
              "\n",
              "[2 rows x 15 columns]"
            ]
          },
          "metadata": {
            "tags": []
          },
          "execution_count": 32
        }
      ]
    },
    {
      "cell_type": "code",
      "metadata": {
        "id": "cRj6ZDGUxseL"
      },
      "source": [
        "turno = pd.get_dummies(palas['shift#'])"
      ],
      "execution_count": 33,
      "outputs": []
    },
    {
      "cell_type": "code",
      "metadata": {
        "id": "LFrWB4bAy5Ak"
      },
      "source": [
        "eqmtid = pd.get_dummies(palas['eqmtid'])"
      ],
      "execution_count": 34,
      "outputs": []
    },
    {
      "cell_type": "code",
      "metadata": {
        "id": "6l4Smvi-yiXB"
      },
      "source": [
        "import datetime as dt"
      ],
      "execution_count": 35,
      "outputs": []
    },
    {
      "cell_type": "code",
      "metadata": {
        "id": "y5Vqb6ZXxPmC"
      },
      "source": [
        "palas['shiftdate'] = pd.to_datetime(palas['shiftdate'])\n",
        "palas['shiftdate'] = palas['shiftdate'].map(dt.datetime.toordinal)"
      ],
      "execution_count": 36,
      "outputs": []
    },
    {
      "cell_type": "code",
      "metadata": {
        "id": "GLXrL_4oyc09"
      },
      "source": [
        "# test shiftdate\n",
        "train = pd.concat([palas.drop(['shift#','shiftindex','eqmtid','totaltons','tmcat01','rendimiento_efectivo'],axis=1),turno,eqmtid],axis=1)\n",
        "# test shiftindex\n",
        "#train = pd.concat([palas.drop(['shift#','shiftdate','eqmtid','totaltons','tmcat01','rendimiento_efectivo'],axis=1),turno,eqmtid],axis=1)"
      ],
      "execution_count": 37,
      "outputs": []
    },
    {
      "cell_type": "code",
      "metadata": {
        "id": "bSt7TPLayuql",
        "outputId": "f58eb33f-180b-4cc0-8e06-ba241cec76e9",
        "colab": {
          "base_uri": "https://localhost:8080/"
        }
      },
      "source": [
        "train.info()"
      ],
      "execution_count": 38,
      "outputs": [
        {
          "output_type": "stream",
          "text": [
            "<class 'pandas.core.frame.DataFrame'>\n",
            "Int64Index: 3819 entries, 23 to 13629\n",
            "Data columns (total 23 columns):\n",
            " #   Column       Non-Null Count  Dtype\n",
            "---  ------       --------------  -----\n",
            " 0   shiftdate    3819 non-null   int64\n",
            " 1   totaltime    3819 non-null   int64\n",
            " 2   loadcnt      3819 non-null   int64\n",
            " 3   tmcat02      3819 non-null   int64\n",
            " 4   tmcat03      3819 non-null   int64\n",
            " 5   tmcat04      3819 non-null   int64\n",
            " 6   tmcat05      3819 non-null   int64\n",
            " 7   tmcat06      3819 non-null   int64\n",
            " 8   tmcat07      3819 non-null   int64\n",
            " 9   rend_ef_bin  3819 non-null   int64\n",
            " 10  1            3819 non-null   uint8\n",
            " 11  2            3819 non-null   uint8\n",
            " 12  026          3819 non-null   uint8\n",
            " 13  029          3819 non-null   uint8\n",
            " 14  030          3819 non-null   uint8\n",
            " 15  210          3819 non-null   uint8\n",
            " 16  211          3819 non-null   uint8\n",
            " 17  212          3819 non-null   uint8\n",
            " 18  213          3819 non-null   uint8\n",
            " 19  305          3819 non-null   uint8\n",
            " 20  306          3819 non-null   uint8\n",
            " 21  307          3819 non-null   uint8\n",
            " 22  BUZON        3819 non-null   uint8\n",
            "dtypes: int64(10), uint8(13)\n",
            "memory usage: 376.7 KB\n"
          ],
          "name": "stdout"
        }
      ]
    },
    {
      "cell_type": "code",
      "metadata": {
        "id": "DATt89VT3Gb_",
        "outputId": "ea987be5-a9a5-4fb0-fd39-d4286263287b",
        "colab": {
          "base_uri": "https://localhost:8080/",
          "height": 379
        }
      },
      "source": [
        "train.head(10)"
      ],
      "execution_count": 39,
      "outputs": [
        {
          "output_type": "execute_result",
          "data": {
            "text/html": [
              "<div>\n",
              "<style scoped>\n",
              "    .dataframe tbody tr th:only-of-type {\n",
              "        vertical-align: middle;\n",
              "    }\n",
              "\n",
              "    .dataframe tbody tr th {\n",
              "        vertical-align: top;\n",
              "    }\n",
              "\n",
              "    .dataframe thead th {\n",
              "        text-align: right;\n",
              "    }\n",
              "</style>\n",
              "<table border=\"1\" class=\"dataframe\">\n",
              "  <thead>\n",
              "    <tr style=\"text-align: right;\">\n",
              "      <th></th>\n",
              "      <th>shiftdate</th>\n",
              "      <th>totaltime</th>\n",
              "      <th>loadcnt</th>\n",
              "      <th>tmcat02</th>\n",
              "      <th>tmcat03</th>\n",
              "      <th>tmcat04</th>\n",
              "      <th>tmcat05</th>\n",
              "      <th>tmcat06</th>\n",
              "      <th>tmcat07</th>\n",
              "      <th>rend_ef_bin</th>\n",
              "      <th>1</th>\n",
              "      <th>2</th>\n",
              "      <th>026</th>\n",
              "      <th>029</th>\n",
              "      <th>030</th>\n",
              "      <th>210</th>\n",
              "      <th>211</th>\n",
              "      <th>212</th>\n",
              "      <th>213</th>\n",
              "      <th>305</th>\n",
              "      <th>306</th>\n",
              "      <th>307</th>\n",
              "      <th>BUZON</th>\n",
              "    </tr>\n",
              "  </thead>\n",
              "  <tbody>\n",
              "    <tr>\n",
              "      <th>23</th>\n",
              "      <td>737241</td>\n",
              "      <td>43200</td>\n",
              "      <td>157</td>\n",
              "      <td>0</td>\n",
              "      <td>814</td>\n",
              "      <td>3086</td>\n",
              "      <td>0</td>\n",
              "      <td>4132</td>\n",
              "      <td>0</td>\n",
              "      <td>1</td>\n",
              "      <td>0</td>\n",
              "      <td>1</td>\n",
              "      <td>0</td>\n",
              "      <td>0</td>\n",
              "      <td>0</td>\n",
              "      <td>0</td>\n",
              "      <td>1</td>\n",
              "      <td>0</td>\n",
              "      <td>0</td>\n",
              "      <td>0</td>\n",
              "      <td>0</td>\n",
              "      <td>0</td>\n",
              "      <td>0</td>\n",
              "    </tr>\n",
              "    <tr>\n",
              "      <th>25</th>\n",
              "      <td>737241</td>\n",
              "      <td>43200</td>\n",
              "      <td>12</td>\n",
              "      <td>0</td>\n",
              "      <td>367</td>\n",
              "      <td>3466</td>\n",
              "      <td>33774</td>\n",
              "      <td>0</td>\n",
              "      <td>0</td>\n",
              "      <td>0</td>\n",
              "      <td>0</td>\n",
              "      <td>1</td>\n",
              "      <td>0</td>\n",
              "      <td>0</td>\n",
              "      <td>0</td>\n",
              "      <td>0</td>\n",
              "      <td>0</td>\n",
              "      <td>0</td>\n",
              "      <td>1</td>\n",
              "      <td>0</td>\n",
              "      <td>0</td>\n",
              "      <td>0</td>\n",
              "      <td>0</td>\n",
              "    </tr>\n",
              "    <tr>\n",
              "      <th>27</th>\n",
              "      <td>737241</td>\n",
              "      <td>43200</td>\n",
              "      <td>55</td>\n",
              "      <td>0</td>\n",
              "      <td>3972</td>\n",
              "      <td>4192</td>\n",
              "      <td>0</td>\n",
              "      <td>4161</td>\n",
              "      <td>0</td>\n",
              "      <td>0</td>\n",
              "      <td>0</td>\n",
              "      <td>1</td>\n",
              "      <td>0</td>\n",
              "      <td>0</td>\n",
              "      <td>0</td>\n",
              "      <td>0</td>\n",
              "      <td>0</td>\n",
              "      <td>0</td>\n",
              "      <td>0</td>\n",
              "      <td>1</td>\n",
              "      <td>0</td>\n",
              "      <td>0</td>\n",
              "      <td>0</td>\n",
              "    </tr>\n",
              "    <tr>\n",
              "      <th>28</th>\n",
              "      <td>737241</td>\n",
              "      <td>43200</td>\n",
              "      <td>54</td>\n",
              "      <td>0</td>\n",
              "      <td>10339</td>\n",
              "      <td>0</td>\n",
              "      <td>6049</td>\n",
              "      <td>1816</td>\n",
              "      <td>0</td>\n",
              "      <td>0</td>\n",
              "      <td>0</td>\n",
              "      <td>1</td>\n",
              "      <td>0</td>\n",
              "      <td>0</td>\n",
              "      <td>0</td>\n",
              "      <td>0</td>\n",
              "      <td>0</td>\n",
              "      <td>0</td>\n",
              "      <td>0</td>\n",
              "      <td>0</td>\n",
              "      <td>1</td>\n",
              "      <td>0</td>\n",
              "      <td>0</td>\n",
              "    </tr>\n",
              "    <tr>\n",
              "      <th>29</th>\n",
              "      <td>737241</td>\n",
              "      <td>43200</td>\n",
              "      <td>103</td>\n",
              "      <td>0</td>\n",
              "      <td>6108</td>\n",
              "      <td>0</td>\n",
              "      <td>0</td>\n",
              "      <td>1772</td>\n",
              "      <td>0</td>\n",
              "      <td>1</td>\n",
              "      <td>0</td>\n",
              "      <td>1</td>\n",
              "      <td>0</td>\n",
              "      <td>0</td>\n",
              "      <td>0</td>\n",
              "      <td>0</td>\n",
              "      <td>0</td>\n",
              "      <td>0</td>\n",
              "      <td>0</td>\n",
              "      <td>0</td>\n",
              "      <td>0</td>\n",
              "      <td>1</td>\n",
              "      <td>0</td>\n",
              "    </tr>\n",
              "    <tr>\n",
              "      <th>6</th>\n",
              "      <td>737241</td>\n",
              "      <td>43200</td>\n",
              "      <td>60</td>\n",
              "      <td>0</td>\n",
              "      <td>4935</td>\n",
              "      <td>0</td>\n",
              "      <td>0</td>\n",
              "      <td>1787</td>\n",
              "      <td>0</td>\n",
              "      <td>0</td>\n",
              "      <td>1</td>\n",
              "      <td>0</td>\n",
              "      <td>0</td>\n",
              "      <td>0</td>\n",
              "      <td>0</td>\n",
              "      <td>0</td>\n",
              "      <td>0</td>\n",
              "      <td>1</td>\n",
              "      <td>0</td>\n",
              "      <td>0</td>\n",
              "      <td>0</td>\n",
              "      <td>0</td>\n",
              "      <td>0</td>\n",
              "    </tr>\n",
              "    <tr>\n",
              "      <th>7</th>\n",
              "      <td>737241</td>\n",
              "      <td>43200</td>\n",
              "      <td>161</td>\n",
              "      <td>0</td>\n",
              "      <td>4166</td>\n",
              "      <td>0</td>\n",
              "      <td>0</td>\n",
              "      <td>3556</td>\n",
              "      <td>0</td>\n",
              "      <td>1</td>\n",
              "      <td>1</td>\n",
              "      <td>0</td>\n",
              "      <td>0</td>\n",
              "      <td>0</td>\n",
              "      <td>0</td>\n",
              "      <td>0</td>\n",
              "      <td>0</td>\n",
              "      <td>0</td>\n",
              "      <td>1</td>\n",
              "      <td>0</td>\n",
              "      <td>0</td>\n",
              "      <td>0</td>\n",
              "      <td>0</td>\n",
              "    </tr>\n",
              "    <tr>\n",
              "      <th>5</th>\n",
              "      <td>737241</td>\n",
              "      <td>43200</td>\n",
              "      <td>128</td>\n",
              "      <td>0</td>\n",
              "      <td>3981</td>\n",
              "      <td>0</td>\n",
              "      <td>0</td>\n",
              "      <td>3524</td>\n",
              "      <td>0</td>\n",
              "      <td>1</td>\n",
              "      <td>1</td>\n",
              "      <td>0</td>\n",
              "      <td>0</td>\n",
              "      <td>0</td>\n",
              "      <td>0</td>\n",
              "      <td>0</td>\n",
              "      <td>1</td>\n",
              "      <td>0</td>\n",
              "      <td>0</td>\n",
              "      <td>0</td>\n",
              "      <td>0</td>\n",
              "      <td>0</td>\n",
              "      <td>0</td>\n",
              "    </tr>\n",
              "    <tr>\n",
              "      <th>10</th>\n",
              "      <td>737241</td>\n",
              "      <td>43200</td>\n",
              "      <td>33</td>\n",
              "      <td>0</td>\n",
              "      <td>8632</td>\n",
              "      <td>13462</td>\n",
              "      <td>0</td>\n",
              "      <td>1778</td>\n",
              "      <td>0</td>\n",
              "      <td>0</td>\n",
              "      <td>1</td>\n",
              "      <td>0</td>\n",
              "      <td>0</td>\n",
              "      <td>0</td>\n",
              "      <td>0</td>\n",
              "      <td>0</td>\n",
              "      <td>0</td>\n",
              "      <td>0</td>\n",
              "      <td>0</td>\n",
              "      <td>0</td>\n",
              "      <td>1</td>\n",
              "      <td>0</td>\n",
              "      <td>0</td>\n",
              "    </tr>\n",
              "    <tr>\n",
              "      <th>11</th>\n",
              "      <td>737241</td>\n",
              "      <td>43200</td>\n",
              "      <td>54</td>\n",
              "      <td>0</td>\n",
              "      <td>728</td>\n",
              "      <td>42472</td>\n",
              "      <td>0</td>\n",
              "      <td>0</td>\n",
              "      <td>0</td>\n",
              "      <td>0</td>\n",
              "      <td>1</td>\n",
              "      <td>0</td>\n",
              "      <td>0</td>\n",
              "      <td>0</td>\n",
              "      <td>0</td>\n",
              "      <td>0</td>\n",
              "      <td>0</td>\n",
              "      <td>0</td>\n",
              "      <td>0</td>\n",
              "      <td>0</td>\n",
              "      <td>0</td>\n",
              "      <td>1</td>\n",
              "      <td>0</td>\n",
              "    </tr>\n",
              "  </tbody>\n",
              "</table>\n",
              "</div>"
            ],
            "text/plain": [
              "    shiftdate  totaltime  loadcnt  tmcat02  tmcat03  ...  213  305  306  307  BUZON\n",
              "23     737241      43200      157        0      814  ...    0    0    0    0      0\n",
              "25     737241      43200       12        0      367  ...    1    0    0    0      0\n",
              "27     737241      43200       55        0     3972  ...    0    1    0    0      0\n",
              "28     737241      43200       54        0    10339  ...    0    0    1    0      0\n",
              "29     737241      43200      103        0     6108  ...    0    0    0    1      0\n",
              "6      737241      43200       60        0     4935  ...    0    0    0    0      0\n",
              "7      737241      43200      161        0     4166  ...    1    0    0    0      0\n",
              "5      737241      43200      128        0     3981  ...    0    0    0    0      0\n",
              "10     737241      43200       33        0     8632  ...    0    0    1    0      0\n",
              "11     737241      43200       54        0      728  ...    0    0    0    1      0\n",
              "\n",
              "[10 rows x 23 columns]"
            ]
          },
          "metadata": {
            "tags": []
          },
          "execution_count": 39
        }
      ]
    },
    {
      "cell_type": "code",
      "metadata": {
        "id": "V0guaa5D1pXy"
      },
      "source": [
        "X_train, X_test, y_train, y_test = train_test_split(train.drop('rend_ef_bin',axis=1),\n",
        "                                                    train['rend_ef_bin'],\n",
        "                                                    test_size=0.30,random_state=42)"
      ],
      "execution_count": 40,
      "outputs": []
    },
    {
      "cell_type": "code",
      "metadata": {
        "id": "k0n8OdIdyY5H"
      },
      "source": [
        "from sklearn.linear_model import LogisticRegression"
      ],
      "execution_count": 41,
      "outputs": []
    },
    {
      "cell_type": "code",
      "metadata": {
        "id": "8k9fT_c_y9_Y",
        "outputId": "bc917d61-440a-4381-8c40-2757fa18a5db",
        "colab": {
          "base_uri": "https://localhost:8080/"
        }
      },
      "source": [
        "model = LogisticRegression()\n",
        "model.fit(X_train,y_train)"
      ],
      "execution_count": 42,
      "outputs": [
        {
          "output_type": "stream",
          "text": [
            "/usr/local/lib/python3.6/dist-packages/sklearn/linear_model/_logistic.py:940: ConvergenceWarning: lbfgs failed to converge (status=1):\n",
            "STOP: TOTAL NO. of ITERATIONS REACHED LIMIT.\n",
            "\n",
            "Increase the number of iterations (max_iter) or scale the data as shown in:\n",
            "    https://scikit-learn.org/stable/modules/preprocessing.html\n",
            "Please also refer to the documentation for alternative solver options:\n",
            "    https://scikit-learn.org/stable/modules/linear_model.html#logistic-regression\n",
            "  extra_warning_msg=_LOGISTIC_SOLVER_CONVERGENCE_MSG)\n"
          ],
          "name": "stderr"
        },
        {
          "output_type": "execute_result",
          "data": {
            "text/plain": [
              "LogisticRegression(C=1.0, class_weight=None, dual=False, fit_intercept=True,\n",
              "                   intercept_scaling=1, l1_ratio=None, max_iter=100,\n",
              "                   multi_class='auto', n_jobs=None, penalty='l2',\n",
              "                   random_state=None, solver='lbfgs', tol=0.0001, verbose=0,\n",
              "                   warm_start=False)"
            ]
          },
          "metadata": {
            "tags": []
          },
          "execution_count": 42
        }
      ]
    },
    {
      "cell_type": "code",
      "metadata": {
        "id": "5PsLClcc1N2-"
      },
      "source": [
        "y_pred = model.predict(X_test)"
      ],
      "execution_count": 43,
      "outputs": []
    },
    {
      "cell_type": "code",
      "metadata": {
        "id": "ntSsLbu2ybwG"
      },
      "source": [
        "from sklearn.metrics import classification_report"
      ],
      "execution_count": 44,
      "outputs": []
    },
    {
      "cell_type": "code",
      "metadata": {
        "id": "NQ33D2T01a1n",
        "outputId": "18b2db1e-8ddb-4552-9d33-21a88e4f6f49",
        "colab": {
          "base_uri": "https://localhost:8080/"
        }
      },
      "source": [
        "print(classification_report(y_test,y_pred))"
      ],
      "execution_count": 45,
      "outputs": [
        {
          "output_type": "stream",
          "text": [
            "              precision    recall  f1-score   support\n",
            "\n",
            "           0       0.98      0.97      0.97       633\n",
            "           1       0.96      0.98      0.97       513\n",
            "\n",
            "    accuracy                           0.97      1146\n",
            "   macro avg       0.97      0.97      0.97      1146\n",
            "weighted avg       0.97      0.97      0.97      1146\n",
            "\n"
          ],
          "name": "stdout"
        }
      ]
    },
    {
      "cell_type": "code",
      "metadata": {
        "id": "e8Bznpf2ydzA"
      },
      "source": [
        "from sklearn.metrics import confusion_matrix"
      ],
      "execution_count": 46,
      "outputs": []
    },
    {
      "cell_type": "code",
      "metadata": {
        "id": "ydOF5rB02Lwn",
        "outputId": "e231005e-9cc2-4aa6-da71-d1242b126169",
        "colab": {
          "base_uri": "https://localhost:8080/"
        }
      },
      "source": [
        "cf_matrix = confusion_matrix(y_test,y_pred)\n",
        "cf_matrix"
      ],
      "execution_count": 47,
      "outputs": [
        {
          "output_type": "execute_result",
          "data": {
            "text/plain": [
              "array([[613,  20],\n",
              "       [ 12, 501]])"
            ]
          },
          "metadata": {
            "tags": []
          },
          "execution_count": 47
        }
      ]
    },
    {
      "cell_type": "code",
      "metadata": {
        "id": "irxx1MY_WflM"
      },
      "source": [
        "import numpy as np"
      ],
      "execution_count": 60,
      "outputs": []
    },
    {
      "cell_type": "code",
      "metadata": {
        "id": "udmnPffn1ddL"
      },
      "source": [
        "plot_matriz(y_test,y_pred)"
      ],
      "execution_count": null,
      "outputs": []
    },
    {
      "cell_type": "markdown",
      "metadata": {
        "id": "9fnDvESH-IJV"
      },
      "source": [
        "#Árbol de decisión"
      ]
    },
    {
      "cell_type": "code",
      "metadata": {
        "id": "4ui-K0v_2HS1"
      },
      "source": [
        "from sklearn.tree import DecisionTreeClassifier"
      ],
      "execution_count": null,
      "outputs": []
    },
    {
      "cell_type": "code",
      "metadata": {
        "id": "ffuEXx4M-Zyx"
      },
      "source": [
        "modelo = DecisionTreeClassifier()"
      ],
      "execution_count": null,
      "outputs": []
    },
    {
      "cell_type": "code",
      "metadata": {
        "id": "PQZ6syB7-bbi"
      },
      "source": [
        "modelo.fit(X_train,y_train)"
      ],
      "execution_count": null,
      "outputs": []
    },
    {
      "cell_type": "code",
      "metadata": {
        "id": "hYjJ9J-d-c2B"
      },
      "source": [
        "y_pred = modelo.predict(X_test)"
      ],
      "execution_count": null,
      "outputs": []
    },
    {
      "cell_type": "code",
      "metadata": {
        "id": "onGBL1IvDVix"
      },
      "source": [
        "from sklearn.tree import export_graphviz\n",
        "from sklearn.externals.six import StringIO\n",
        "from IPython.display import Image  \n",
        "import pydotplus"
      ],
      "execution_count": null,
      "outputs": []
    },
    {
      "cell_type": "code",
      "metadata": {
        "id": "MLtAruDJDWob"
      },
      "source": [
        "tree_to_png(modelo,train,'/tree.png')"
      ],
      "execution_count": 55,
      "outputs": []
    },
    {
      "cell_type": "code",
      "metadata": {
        "id": "7aLUh5Qo-eIx",
        "outputId": "ca89ab9a-c214-4b38-873d-30fc0eb21388",
        "colab": {
          "base_uri": "https://localhost:8080/"
        }
      },
      "source": [
        "print(classification_report(y_test,y_pred))"
      ],
      "execution_count": 56,
      "outputs": [
        {
          "output_type": "stream",
          "text": [
            "              precision    recall  f1-score   support\n",
            "\n",
            "           0       0.93      0.89      0.91       633\n",
            "           1       0.88      0.92      0.90       513\n",
            "\n",
            "    accuracy                           0.91      1146\n",
            "   macro avg       0.90      0.91      0.91      1146\n",
            "weighted avg       0.91      0.91      0.91      1146\n",
            "\n"
          ],
          "name": "stdout"
        }
      ]
    },
    {
      "cell_type": "code",
      "metadata": {
        "id": "l5c2zjpr-f1-",
        "outputId": "aa7a4a4c-0395-41bf-9a69-b9491870ebb2",
        "colab": {
          "base_uri": "https://localhost:8080/"
        }
      },
      "source": [
        "confusion_matrix(y_test,y_pred)"
      ],
      "execution_count": 57,
      "outputs": [
        {
          "output_type": "execute_result",
          "data": {
            "text/plain": [
              "array([[566,  67],\n",
              "       [ 41, 472]])"
            ]
          },
          "metadata": {
            "tags": []
          },
          "execution_count": 57
        }
      ]
    },
    {
      "cell_type": "code",
      "metadata": {
        "id": "vSQT-GjE-hux",
        "outputId": "c8b7f34f-8e0d-47ee-dafe-a0a00623f6d2",
        "colab": {
          "base_uri": "https://localhost:8080/",
          "height": 356
        }
      },
      "source": [
        "plot_matriz(y_test,y_pred)"
      ],
      "execution_count": 61,
      "outputs": [
        {
          "output_type": "stream",
          "text": [
            "Accuracy: 0.9057591623036649\n",
            "Precision: 0.87569573283859\n",
            "Recall: 0.9200779727095516\n"
          ],
          "name": "stdout"
        },
        {
          "output_type": "display_data",
          "data": {
            "image/png": "[encoded data removed]",
            "text/plain": [
              "<Figure size 432x288 with 2 Axes>"
            ]
          },
          "metadata": {
            "tags": []
          }
        }
      ]
    },
    {
      "cell_type": "markdown",
      "metadata": {
        "id": "CX_QxVcJ3vJS"
      },
      "source": [
        "Podar"
      ]
    },
    {
      "cell_type": "code",
      "metadata": {
        "id": "YliM4k-bCUDX"
      },
      "source": [
        "from sklearn.tree._tree import TREE_LEAF"
      ],
      "execution_count": null,
      "outputs": []
    },
    {
      "cell_type": "code",
      "metadata": {
        "id": "p7BybeUdCXc3"
      },
      "source": [
        "print(sum(modelo.tree_.children_left < 0))\n",
        "# start pruning from the root\n",
        "podar(modelo.tree_, 0, 5)\n",
        "sum(modelo.tree_.children_left < 0)"
      ],
      "execution_count": null,
      "outputs": []
    },
    {
      "cell_type": "code",
      "metadata": {
        "id": "hcrUFmLaCefz"
      },
      "source": [
        "tree_to_png(modelo,train,'/tree_pod.png')"
      ],
      "execution_count": null,
      "outputs": []
    },
    {
      "cell_type": "markdown",
      "metadata": {
        "id": "8PGaUG-zUyj9"
      },
      "source": [
        "#Random Forest"
      ]
    },
    {
      "cell_type": "code",
      "metadata": {
        "id": "oOcBMSmzUyKO"
      },
      "source": [
        "from sklearn.ensemble import RandomForestClassifier"
      ],
      "execution_count": 62,
      "outputs": []
    },
    {
      "cell_type": "code",
      "metadata": {
        "id": "nDCfVXBCScWU"
      },
      "source": [
        "modelo = RandomForestClassifier(n_estimators=100)"
      ],
      "execution_count": 63,
      "outputs": []
    },
    {
      "cell_type": "code",
      "metadata": {
        "id": "59cHOz-cW-du",
        "outputId": "6f478b61-671f-4ced-bff8-f2c6f73555a0",
        "colab": {
          "base_uri": "https://localhost:8080/"
        }
      },
      "source": [
        "modelo.fit(X_train,y_train)"
      ],
      "execution_count": 65,
      "outputs": [
        {
          "output_type": "execute_result",
          "data": {
            "text/plain": [
              "RandomForestClassifier(bootstrap=True, ccp_alpha=0.0, class_weight=None,\n",
              "                       criterion='gini', max_depth=None, max_features='auto',\n",
              "                       max_leaf_nodes=None, max_samples=None,\n",
              "                       min_impurity_decrease=0.0, min_impurity_split=None,\n",
              "                       min_samples_leaf=1, min_samples_split=2,\n",
              "                       min_weight_fraction_leaf=0.0, n_estimators=100,\n",
              "                       n_jobs=None, oob_score=False, random_state=None,\n",
              "                       verbose=0, warm_start=False)"
            ]
          },
          "metadata": {
            "tags": []
          },
          "execution_count": 65
        }
      ]
    },
    {
      "cell_type": "code",
      "metadata": {
        "id": "x5MpamfXU9I3"
      },
      "source": [
        "y_pred = modelo.predict(X_test)"
      ],
      "execution_count": 66,
      "outputs": []
    },
    {
      "cell_type": "code",
      "metadata": {
        "id": "jXKqWTszX50I",
        "outputId": "3f395957-4d8d-44ce-e985-2aa694dd6fb7",
        "colab": {
          "base_uri": "https://localhost:8080/"
        }
      },
      "source": [
        "len(modelo.estimators_)"
      ],
      "execution_count": 77,
      "outputs": [
        {
          "output_type": "execute_result",
          "data": {
            "text/plain": [
              "100"
            ]
          },
          "metadata": {
            "tags": []
          },
          "execution_count": 77
        }
      ]
    },
    {
      "cell_type": "code",
      "metadata": {
        "id": "vmY1xD6iXCDj",
        "outputId": "17334115-2372-490c-dd26-ec5bfcccddff",
        "colab": {
          "base_uri": "https://localhost:8080/"
        }
      },
      "source": [
        "#modelo.estimators_\n",
        "modelo.estimators_[0]"
      ],
      "execution_count": 68,
      "outputs": [
        {
          "output_type": "execute_result",
          "data": {
            "text/plain": [
              "DecisionTreeClassifier(ccp_alpha=0.0, class_weight=None, criterion='gini',\n",
              "                       max_depth=None, max_features='auto', max_leaf_nodes=None,\n",
              "                       min_impurity_decrease=0.0, min_impurity_split=None,\n",
              "                       min_samples_leaf=1, min_samples_split=2,\n",
              "                       min_weight_fraction_leaf=0.0, presort='deprecated',\n",
              "                       random_state=1001760149, splitter='best')"
            ]
          },
          "metadata": {
            "tags": []
          },
          "execution_count": 68
        }
      ]
    },
    {
      "cell_type": "code",
      "metadata": {
        "id": "bszGFVsCYY2W"
      },
      "source": [
        "for index in range(0, 5):\n",
        "  name = '/tree_rf_' + str(index) + '.png'\n",
        "  tree_to_png(modelo.estimators_[index],train,name)"
      ],
      "execution_count": 79,
      "outputs": []
    },
    {
      "cell_type": "code",
      "metadata": {
        "id": "484yHOnbVBBA",
        "outputId": "a260cc4a-3044-4923-d9db-3c79f5b45a55",
        "colab": {
          "base_uri": "https://localhost:8080/"
        }
      },
      "source": [
        "print(classification_report(y_test,y_pred))"
      ],
      "execution_count": 69,
      "outputs": [
        {
          "output_type": "stream",
          "text": [
            "              precision    recall  f1-score   support\n",
            "\n",
            "           0       0.94      0.92      0.93       633\n",
            "           1       0.91      0.93      0.92       513\n",
            "\n",
            "    accuracy                           0.93      1146\n",
            "   macro avg       0.93      0.93      0.93      1146\n",
            "weighted avg       0.93      0.93      0.93      1146\n",
            "\n"
          ],
          "name": "stdout"
        }
      ]
    },
    {
      "cell_type": "code",
      "metadata": {
        "id": "ZE5eh9jOVGEt"
      },
      "source": [
        "from sklearn.metrics import confusion_matrix"
      ],
      "execution_count": 70,
      "outputs": []
    },
    {
      "cell_type": "code",
      "metadata": {
        "id": "dbzihjuPVCw9",
        "outputId": "3e33f56c-71fc-4062-ac13-b9e300344c8b",
        "colab": {
          "base_uri": "https://localhost:8080/"
        }
      },
      "source": [
        "confusion_matrix(y_test,y_pred)"
      ],
      "execution_count": 71,
      "outputs": [
        {
          "output_type": "execute_result",
          "data": {
            "text/plain": [
              "array([[585,  48],\n",
              "       [ 35, 478]])"
            ]
          },
          "metadata": {
            "tags": []
          },
          "execution_count": 71
        }
      ]
    },
    {
      "cell_type": "code",
      "metadata": {
        "id": "y7NGc7iVVIcn",
        "outputId": "93046117-17b0-4207-8c03-58a2886bf305",
        "colab": {
          "base_uri": "https://localhost:8080/",
          "height": 356
        }
      },
      "source": [
        "plot_matriz(y_test,y_pred)"
      ],
      "execution_count": 72,
      "outputs": [
        {
          "output_type": "stream",
          "text": [
            "Accuracy: 0.9275741710296684\n",
            "Precision: 0.908745247148289\n",
            "Recall: 0.9317738791423001\n"
          ],
          "name": "stdout"
        },
        {
          "output_type": "display_data",
          "data": {
            "image/png": "[encoded data removed]",
            "text/plain": [
              "<Figure size 432x288 with 2 Axes>"
            ]
          },
          "metadata": {
            "tags": []
          }
        }
      ]
    },
    {
      "cell_type": "code",
      "metadata": {
        "id": "-uAoslLkXjgt"
      },
      "source": [
        ""
      ],
      "execution_count": null,
      "outputs": []
    }
  ]
}